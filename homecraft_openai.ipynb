{
  "cells": [
    {
      "cell_type": "markdown",
      "metadata": {
        "id": "4yfRrz9nWrLT"
      },
      "source": [
        "#**Homecraft**-**OpenAI**"
      ]
    },
    {
      "cell_type": "code",
      "execution_count": null,
      "metadata": {
        "id": "ls0aR8CHwaUw"
      },
      "outputs": [],
      "source": [
        "pip install elasticsearch OpenAI"
      ]
    },
    {
      "cell_type": "code",
      "execution_count": null,
      "metadata": {
        "colab": {
          "base_uri": "https://localhost:8080/"
        },
        "id": "vr-Mxn-I76oa",
        "outputId": "4638a3c0-2df9-4842-fa37-ae8daff63fb7"
      },
      "outputs": [],
      "source": [
        "from elasticsearch import Elasticsearch\n",
        "from openai import OpenAI, ChatCompletion\n",
        "\n",
        "# Initialize Elasticsearch\n",
        "es = Elasticsearch(\"https://diar-demo-cluster.es.asia-southeast1.gcp.elastic-cloud.com/\", api_key=\"NE9XTWVZNEJXRjBsbHhqQUZkbks6cVNTUWJjMnVSTFMtZzlBczdGLUFkdw==\")\n",
        "\n",
        "# Test the connection\n",
        "if es.ping():\n",
        "    print(\"Connected to Elasticsearch cluster\")\n",
        "else:\n",
        "    print(\"Unable to connect to Elasticsearch cluster\")"
      ]
    },
    {
      "cell_type": "code",
      "execution_count": null,
      "metadata": {
        "id": "MjiRIB5j8G0J"
      },
      "outputs": [],
      "source": [
        "# Initialize OpenAI\n",
        "openaikey = input(\"Enter your key: \")\n",
        "client = OpenAI(api_key=openaikey)"
      ]
    },
    {
      "cell_type": "code",
      "execution_count": 45,
      "metadata": {
        "id": "4Elb2z703guV"
      },
      "outputs": [],
      "source": [
        "# Search ElasticSearch index and return details on relevant products\n",
        "def search_products(query_text):\n",
        "\n",
        "    # Elasticsearch query (BM25) and kNN configuration for hybrid search\n",
        "    query = {\n",
        "        \"bool\": {\n",
        "            \"must\": [{\n",
        "                \"match\": {\n",
        "                    \"title\": {\n",
        "                        \"query\": query_text,\n",
        "                        \"boost\": 1\n",
        "                    }\n",
        "                }\n",
        "            }],\n",
        "            \"filter\": [{\n",
        "                \"exists\": {\n",
        "                    \"field\": \"title-vector\"\n",
        "                }\n",
        "            }]\n",
        "        }\n",
        "    }\n",
        "\n",
        "    knn = {\n",
        "        \"field\": \"title-vector\",\n",
        "        \"k\": 1,\n",
        "        \"num_candidates\": 20,\n",
        "        \"query_vector_builder\": {\n",
        "            \"text_embedding\": {\n",
        "                \"model_id\": \"sentence-transformers__all-distilroberta-v1\",\n",
        "                \"model_text\": query_text\n",
        "            }\n",
        "        },\n",
        "        \"boost\": 24\n",
        "    }\n",
        "\n",
        "    fields = [\"title\", \"description\", \"url\", \"availability\", \"price\", \"brand\", \"product_id\"]\n",
        "    index = 'home-depot-product-catalog-vector'\n",
        "    resp = es.search(index=index,\n",
        "                     query=query,\n",
        "                     knn=knn,\n",
        "                     fields=fields,\n",
        "                     size=5,\n",
        "                     source=False)\n",
        "\n",
        "    doc_list = resp['hits']['hits']\n",
        "    body = resp['hits']['hits']\n",
        "    url = ''\n",
        "    for doc in doc_list:\n",
        "        #body = body + doc['fields']['description'][0]\n",
        "        url = url + \"\\n\\n\" +  doc['fields']['url'][0]\n",
        "\n",
        "    return body, url\n",
        "\n",
        "# Search ElasticSearch index and return body and URL for crawled docs\n",
        "def search_docs(query_text):\n",
        "\n",
        "\n",
        "    # Elasticsearch query (BM25) and kNN configuration for hybrid search\n",
        "    query = {\n",
        "        \"bool\": {\n",
        "            \"must\": [{\n",
        "                \"match\": {\n",
        "                    \"title\": {\n",
        "                        \"query\": query_text,\n",
        "                        \"boost\": 1\n",
        "                    }\n",
        "                }\n",
        "            }],\n",
        "            \"filter\": [{\n",
        "                \"exists\": {\n",
        "                    \"field\": \"title-vector\"\n",
        "                }\n",
        "            }]\n",
        "        }\n",
        "    }\n",
        "\n",
        "    knn = {\n",
        "        \"field\": \"title-vector\",\n",
        "        \"k\": 1,\n",
        "        \"num_candidates\": 20,\n",
        "        \"query_vector_builder\": {\n",
        "            \"text_embedding\": {\n",
        "                \"model_id\": \"sentence-transformers__all-distilroberta-v1\",\n",
        "                \"model_text\": query_text\n",
        "            }\n",
        "        },\n",
        "        \"boost\": 24\n",
        "    }\n",
        "\n",
        "    fields = [\"title\", \"body_content\", \"url\"]\n",
        "    index = 'search-homecraft-ikea'\n",
        "    resp = es.search(index=index,\n",
        "                     query=query,\n",
        "                     knn=knn,\n",
        "                     fields=fields,\n",
        "                     size=1,\n",
        "                     source=False)\n",
        "\n",
        "    body = resp['hits']['hits'][0]['fields']['body_content'][0]\n",
        "    url = resp['hits']['hits'][0]['fields']['url'][0]\n",
        "\n",
        "    return body, url\n",
        "\n",
        "# Search ElasticSearch index for user's order history\n",
        "def search_orders(user):\n",
        "\n",
        "    # Use only text-search\n",
        "    query = {\n",
        "        \"bool\": {\n",
        "            \"must\": [{\n",
        "                \"match\": {\n",
        "                    \"user_id\": {\n",
        "                        \"query\": user,\n",
        "                        \"boost\": 1\n",
        "                    }\n",
        "                }\n",
        "            }]\n",
        "        }\n",
        "    }\n",
        "\n",
        "    fields = [\"id\", \"order_id\", \"user_id\", \"product_id\" \"status\", \"created_at\", \"shipped_at\", \"delivered_at\", \"returned_at\", \"sale_price\"]\n",
        "    index = 'bigquery-thelook-order-items'\n",
        "    resp = es.search(index=index,\n",
        "                     query=query,\n",
        "                     fields=fields,\n",
        "                     size=10,\n",
        "                     source=False)\n",
        "\n",
        "    order_items_list = resp['hits']['hits']\n",
        "\n",
        "    return order_items_list"
      ]
    },
    {
      "cell_type": "code",
      "execution_count": null,
      "metadata": {
        "colab": {
          "base_uri": "https://localhost:8080/"
        },
        "id": "Zk0YJrpCDiiq",
        "outputId": "20d581c6-be99-4f6e-ce6f-08a5f2bc3a04"
      },
      "outputs": [],
      "source": [
        "query = input(\"Enter your query: \")\n",
        "\n",
        "resp_products, url_products = search_products(query)\n",
        "resp_docs, url_docs = search_docs(query)\n",
        "resp_order_items = search_orders(1) # 1 is the hardcoded userid, to simplify this scenario. You should take user_id by user session\n",
        "\n",
        "prompt = f\"Answer this question: {query}.\\n If product information is requested use the information provided in this JSON: {resp_products} listing the identified products in bullet points with this format: Product name, product key features, price, web url. \\n For other questions use the documentation provided in these docs: {resp_docs} and your own knowledge. \\n If the question contains requests for user past orders consider the following order list: {resp_order_items}\"\n",
        "\n",
        "# Generate response from ChatGPT\n",
        "response = client.chat.completions.create(\n",
        "    model=\"gpt-3.5-turbo-1106\",\n",
        "    messages=[{\"role\": \"system\", \"content\": prompt}]\n",
        ")\n",
        "\n",
        "# Print the model's response\n",
        "print(response.choices[0].message.content)"
      ]
    }
  ],
  "metadata": {
    "colab": {
      "provenance": []
    },
    "kernelspec": {
      "display_name": "Python 3",
      "name": "python3"
    },
    "language_info": {
      "name": "python"
    }
  },
  "nbformat": 4,
  "nbformat_minor": 0
}
